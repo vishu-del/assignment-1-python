{
 "cells": [
  {
   "cell_type": "code",
   "execution_count": 5,
   "id": "c0e401aa-70de-4aac-902c-83933c82001e",
   "metadata": {},
   "outputs": [
    {
     "data": {
      "text/plain": [
       "str"
      ]
     },
     "execution_count": 5,
     "metadata": {},
     "output_type": "execute_result"
    }
   ],
   "source": [
    "1.A\n",
    "a=\"physics walla\"\n",
    "type(a)"
   ]
  },
  {
   "cell_type": "code",
   "execution_count": 6,
   "id": "9cb9b3be-549b-4644-95f1-101f72395e2c",
   "metadata": {},
   "outputs": [
    {
     "data": {
      "text/plain": [
       "list"
      ]
     },
     "execution_count": 6,
     "metadata": {},
     "output_type": "execute_result"
    }
   ],
   "source": [
    "1.B\n",
    "a=[1,2,3,4,5]\n",
    "type(a)"
   ]
  },
  {
   "cell_type": "markdown",
   "id": "d52766b2-3e86-4ca9-971e-112a1a870846",
   "metadata": {
    "tags": []
   },
   "source": []
  },
  {
   "cell_type": "code",
   "execution_count": 7,
   "id": "52238159-d5d1-4c1d-bff1-d6de966dff22",
   "metadata": {},
   "outputs": [
    {
     "data": {
      "text/plain": [
       "float"
      ]
     },
     "execution_count": 7,
     "metadata": {},
     "output_type": "execute_result"
    }
   ],
   "source": [
    "1.C\n",
    "b=3.45\n",
    "type(b)"
   ]
  },
  {
   "cell_type": "code",
   "execution_count": 8,
   "id": "b73a361c-969f-4385-a192-34399cb03131",
   "metadata": {},
   "outputs": [
    {
     "data": {
      "text/plain": [
       "tuple"
      ]
     },
     "execution_count": 8,
     "metadata": {},
     "output_type": "execute_result"
    }
   ],
   "source": [
    "1.D\n",
    "c=(4,5,6,6,7,8,)\n",
    "type(c)"
   ]
  },
  {
   "cell_type": "markdown",
   "id": "6f97c5a6-3458-457e-a64a-2052348c8480",
   "metadata": {},
   "source": [
    "2.a = string\n",
    "  b=string\n",
    "  c=list\n",
    "  d=integer\n",
    "\n"
   ]
  },
  {
   "cell_type": "code",
   "execution_count": 9,
   "id": "c2f3675d-3ea0-4c83-bf2e-e4b1957575c8",
   "metadata": {},
   "outputs": [
    {
     "name": "stdout",
     "output_type": "stream",
     "text": [
      "6.666666666666667\n"
     ]
    }
   ],
   "source": [
    "3. \n",
    "a=20/3\n",
    "print(a)"
   ]
  },
  {
   "cell_type": "code",
   "execution_count": 10,
   "id": "11fd0c39-8623-44e2-ae49-ab80b43d7d71",
   "metadata": {},
   "outputs": [
    {
     "name": "stdout",
     "output_type": "stream",
     "text": [
      "3\n"
     ]
    }
   ],
   "source": [
    "4.\n",
    "a=15%4\n",
    "print(a)\n",
    "\n"
   ]
  },
  {
   "cell_type": "code",
   "execution_count": 11,
   "id": "b74cf6c9-5ffa-415f-b086-67fa898eed81",
   "metadata": {},
   "outputs": [
    {
     "name": "stdout",
     "output_type": "stream",
     "text": [
      "5\n"
     ]
    }
   ],
   "source": [
    "5.\n",
    "a=20//4\n",
    "print(a)"
   ]
  },
  {
   "cell_type": "code",
   "execution_count": 12,
   "id": "3b12ff52-578e-4ad5-9666-b8b324691e66",
   "metadata": {},
   "outputs": [
    {
     "name": "stdout",
     "output_type": "stream",
     "text": [
      "27\n"
     ]
    }
   ],
   "source": [
    "6.\n",
    "a=3**3\n",
    "print(a)"
   ]
  },
  {
   "cell_type": "code",
   "execution_count": 35,
   "id": "8c1b006e-8e09-4d51-be0b-10a822d7c1ca",
   "metadata": {},
   "outputs": [
    {
     "name": "stdout",
     "output_type": "stream",
     "text": [
      "1 <class 'int'>\n",
      "vishal <class 'str'>\n",
      "6.77 <class 'float'>\n",
      "(1, 2, 3) <class 'tuple'>\n",
      "False <class 'bool'>\n",
      "True <class 'bool'>\n",
      "yputube <class 'str'>\n",
      "333 <class 'int'>\n",
      "123.77 <class 'float'>\n"
     ]
    }
   ],
   "source": [
    "a = [1,\"vishal\",6.77,(1,2,3),False, True,\"yputube\",333,123.77]\n",
    "for element in a:\n",
    "    print(element, type(element))\n",
    "\n",
    "    \n",
    "    \n",
    "          \n",
    "        "
   ]
  },
  {
   "cell_type": "code",
   "execution_count": 54,
   "id": "8038eaa4-a154-4ca2-be74-ddb2599f59a1",
   "metadata": {},
   "outputs": [
    {
     "name": "stdout",
     "output_type": "stream",
     "text": [
      "1 is not divisible by 3\n",
      "56 is not divisible by 3\n",
      "67 is not divisible by 3\n",
      "77 is not divisible by 3\n",
      "5 is not divisible by 3\n",
      "66 is divisible by 3.\n",
      "55 is not divisible by 3\n",
      "77 is not divisible by 3\n",
      "55 is not divisible by 3\n",
      "23 is not divisible by 3\n",
      "77 is not divisible by 3\n",
      "87 is divisible by 3.\n",
      "88 is not divisible by 3\n",
      "99 is divisible by 3.\n",
      "77 is not divisible by 3\n",
      "44 is not divisible by 3\n",
      "22 is not divisible by 3\n",
      "44 is not divisible by 3\n",
      "66 is divisible by 3.\n",
      "5 is not divisible by 3\n",
      "5.45 is not divisible by 3\n",
      "34 is not divisible by 3\n",
      "56 is not divisible by 3\n",
      "45 is divisible by 3.\n"
     ]
    }
   ],
   "source": [
    "a=[1,56,67,77,5,66,55,77,55,23,77,87,88,99,77,44,22,44,66,5,5.45,34,56,45,]\n",
    "for number in a:\n",
    "    if number % 3 == 0:\n",
    "          print(f\"{number} is divisible by 3.\")\n",
    "    else:\n",
    "        print(f\"{number} is not divisible by 3\")\n",
    "    \n",
    "    \n"
   ]
  },
  {
   "cell_type": "code",
   "execution_count": 49,
   "id": "2c82e61f-cd26-42c9-ab37-8f6592a2a072",
   "metadata": {},
   "outputs": [
    {
     "name": "stdout",
     "output_type": "stream",
     "text": [
      "0\n"
     ]
    }
   ],
   "source": [
    "A=23\n",
    "B=3\n",
    "count=0\n",
    "while A%B==0:\n",
    "      A=A//B\n",
    "print(count)"
   ]
  },
  {
   "cell_type": "code",
   "execution_count": null,
   "id": "964fb92c-fbec-47b3-a2ba-77ca77b38bac",
   "metadata": {},
   "outputs": [],
   "source": []
  }
 ],
 "metadata": {
  "kernelspec": {
   "display_name": "Python 3 (ipykernel)",
   "language": "python",
   "name": "python3"
  },
  "language_info": {
   "codemirror_mode": {
    "name": "ipython",
    "version": 3
   },
   "file_extension": ".py",
   "mimetype": "text/x-python",
   "name": "python",
   "nbconvert_exporter": "python",
   "pygments_lexer": "ipython3",
   "version": "3.10.8"
  }
 },
 "nbformat": 4,
 "nbformat_minor": 5
}
